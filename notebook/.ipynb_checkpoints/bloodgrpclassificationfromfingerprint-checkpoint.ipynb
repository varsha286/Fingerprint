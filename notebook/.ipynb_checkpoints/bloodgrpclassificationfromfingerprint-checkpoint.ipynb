{
 "cells": [
  {
   "cell_type": "code",
   "execution_count": 1,
   "id": "0f6763dd-b814-4b31-874c-4bcff3866837",
   "metadata": {},
   "outputs": [],
   "source": [
    "# This Python 3 environment comes with many helpful analytics libraries ins mandeep kharb\n",
    "# It is defined by the kaggle/python Docker image: https://github.com/kaggle/docker-python\n",
    "\n",
    "# For example, here's several helpful packages to load\n",
    "\n",
    "import numpy as np # linear algebra\n",
    "import pandas as pd # data processing, CSV file I/O (e.g. pd.read_csv)\n",
    "\n",
    "# Input data files are available in the read-only \"../input/\" directory\n",
    "# For example, running this (by clicking run or pressing Shift+Enter) will list all files under the input directory\n",
    "\n",
    "import os\n",
    "for dirname, _, filenames in os.walk('/kaggle/input'):\n",
    "    for filename in filenames:\n",
    "        print(os.path.join(dirname, filename))\n",
    "\n",
    "# You can write up to 20GB to the current directory (/kaggle/working/) that gets preserved as output when you create a version\n",
    "# You can also write temporary files to /kaggle/temp/, but they won't be saved outside of the current session"
   ]
  },
  {
   "cell_type": "code",
   "execution_count": 3,
   "id": "8d88132e-d119-4b30-ba45-c887d0c3d04a",
   "metadata": {},
   "outputs": [],
   "source": [
    "import tensorflow as tf\n",
    "from tensorflow.keras.preprocessing.image import ImageDataGenerator\n",
    "from collections import Counter\n",
    "import numpy as np\n",
    "import os\n",
    "import shutil\n",
    "from sklearn.utils import resample\n",
    "from tensorflow.keras.preprocessing.image import load_img, img_to_array, save_img\n",
    "from tensorflow.keras.utils import image_dataset_from_directory\n",
    "from sklearn.metrics import classification_report, confusion_matrix\n",
    "import matplotlib.pyplot as plt\n",
    "import seaborn as sns\n",
    "import numpy as np"
   ]
  },
  {
   "cell_type": "code",
   "execution_count": 7,
   "id": "70f2d9ec-e004-4e22-b23c-4312adfc775d",
   "metadata": {},
   "outputs": [],
   "source": [
    "dataset_path = '../dataset/dataset_blood_group'"
   ]
  },
  {
   "cell_type": "code",
   "execution_count": 8,
   "id": "08d057cb-46e3-445a-af1b-acc5c0c4d625",
   "metadata": {},
   "outputs": [],
   "source": [
    "BATCH_SIZE = 32"
   ]
  },
  {
   "cell_type": "code",
   "execution_count": 9,
   "id": "5757576e-c066-41c9-b4f9-501c794fd196",
   "metadata": {},
   "outputs": [
    {
     "name": "stdout",
     "output_type": "stream",
     "text": [
      "Found 8000 files belonging to 8 classes.\n"
     ]
    }
   ],
   "source": [
    "# Step 1: Load dataset\n",
    "dataset = image_dataset_from_directory(\n",
    "    dataset_path,\n",
    "    labels=\"inferred\",\n",
    "    label_mode=\"int\",\n",
    "    image_size=(64, 64), # Resize images to a standard size\n",
    "    batch_size=BATCH_SIZE,\n",
    "    shuffle=True\n",
    ")"
   ]
  },
  {
   "cell_type": "code",
   "execution_count": 14,
   "id": "6ea2aeac-eba9-48c2-a98d-4cf61f22ac52",
   "metadata": {},
   "outputs": [
    {
     "name": "stdout",
     "output_type": "stream",
     "text": [
      "Class Distribution:\n",
      "B+: 1000\n",
      "B-: 1000\n",
      "AB-: 1000\n",
      "O+: 1000\n",
      "A-: 1000\n",
      "A+: 1000\n",
      "AB+: 1000\n",
      "O-: 1000\n"
     ]
    }
   ],
   "source": [
    "# Step 2: Check class distribution\n",
    "class_names = dataset.class_names\n",
    "class_counts = Counter()\n",
    "\n",
    "for _, labels in dataset.unbatch():\n",
    "    class_counts[int(labels.numpy())] += 1\n",
    "\n",
    "print(\"Class Distribution:\")\n",
    "for i, count in class_counts.items():\n",
    "    print(f\"{class_names[i]}: {count}\")"
   ]
  },
  {
   "cell_type": "code",
   "execution_count": 22,
   "id": "25b6ab9a-a372-48d6-9ca7-79acc2aee75b",
   "metadata": {
    "scrolled": true
   },
   "outputs": [],
   "source": [
    "import matplotlib.pyplot as plt\n",
    "\n",
    "def plot_class_distribution(class_names, class_counts):\n",
    "    \"\"\"\n",
    "    Plots the distribution of classes in the dataset.\n",
    "\n",
    "    Parameters:\n",
    "    class_names (list): List of class names.\n",
    "    class_counts (dict): Dictionary with class indices as keys and counts as values.\n",
    "\n",
    "    Returns:\n",
    "    None\n",
    "    \"\"\"\n",
    "    # Ensure class_names and class_counts are passed as lists with the correct order\n",
    "    classes = class_names\n",
    "    counts = [class_counts[class_name] for class_name in class_names]\n",
    "\n",
    "    plt.figure(figsize=(10, 6))\n",
    "    plt.bar(classes, counts, color='skyblue')\n",
    "    plt.xlabel('Class')\n",
    "    plt.ylabel('Number of Samples')\n",
    "    plt.title('Distribution of Classes in the Dataset')\n",
    "    plt.xticks(rotation=45)\n",
    "    plt.show()\n",
    "    # Assuming class_names and class_counts are already calculated\n",
    "    plot_class_distribution(class_names, class_counts)"
   ]
  },
  {
   "cell_type": "code",
   "execution_count": null,
   "id": "bd13bf4f-5a14-43fc-97e0-91b3d62ca6da",
   "metadata": {},
   "outputs": [],
   "source": []
  }
 ],
 "metadata": {
  "kernelspec": {
   "display_name": "Python 3 (ipykernel)",
   "language": "python",
   "name": "python3"
  },
  "language_info": {
   "codemirror_mode": {
    "name": "ipython",
    "version": 3
   },
   "file_extension": ".py",
   "mimetype": "text/x-python",
   "name": "python",
   "nbconvert_exporter": "python",
   "pygments_lexer": "ipython3",
   "version": "3.12.7"
  }
 },
 "nbformat": 4,
 "nbformat_minor": 5
}
