{
 "cells": [
  {
   "cell_type": "code",
   "execution_count": 1,
   "id": "0f6763dd-b814-4b31-874c-4bcff3866837",
   "metadata": {},
   "outputs": [],
   "source": [
    "# This Python 3 environment comes with many helpful analytics libraries ins mandeep kharb\n",
    "# It is defined by the kaggle/python Docker image: https://github.com/kaggle/docker-python\n",
    "\n",
    "# For example, here's several helpful packages to load\n",
    "\n",
    "import numpy as np # linear algebra\n",
    "import pandas as pd # data processing, CSV file I/O (e.g. pd.read_csv)\n",
    "\n",
    "# Input data files are available in the read-only \"../input/\" directory\n",
    "# For example, running this (by clicking run or pressing Shift+Enter) will list all files under the input directory\n",
    "\n",
    "import os\n",
    "for dirname, _, filenames in os.walk('/kaggle/input'):\n",
    "    for filename in filenames:\n",
    "        print(os.path.join(dirname, filename))\n",
    "\n",
    "# You can write up to 20GB to the current directory (/kaggle/working/) that gets preserved as output when you create a version\n",
    "# You can also write temporary files to /kaggle/temp/, but they won't be saved outside of the current session"
   ]
  },
  {
   "cell_type": "code",
   "execution_count": 3,
   "id": "8d88132e-d119-4b30-ba45-c887d0c3d04a",
   "metadata": {},
   "outputs": [],
   "source": [
    "import tensorflow as tf\n",
    "from tensorflow.keras.preprocessing.image import ImageDataGenerator\n",
    "from collections import Counter\n",
    "import numpy as np\n",
    "import os\n",
    "import shutil\n",
    "from sklearn.utils import resample\n",
    "from tensorflow.keras.preprocessing.image import load_img, img_to_array, save_img\n",
    "from tensorflow.keras.utils import image_dataset_from_directory\n",
    "from sklearn.metrics import classification_report, confusion_matrix\n",
    "import matplotlib.pyplot as plt\n",
    "import seaborn as sns\n",
    "import numpy as np"
   ]
  },
  {
   "cell_type": "code",
   "execution_count": 7,
   "id": "70f2d9ec-e004-4e22-b23c-4312adfc775d",
   "metadata": {},
   "outputs": [],
   "source": [
    "dataset_path = '../dataset/dataset_blood_group'"
   ]
  },
  {
   "cell_type": "code",
   "execution_count": 8,
   "id": "08d057cb-46e3-445a-af1b-acc5c0c4d625",
   "metadata": {},
   "outputs": [],
   "source": [
    "BATCH_SIZE = 32"
   ]
  },
  {
   "cell_type": "code",
   "execution_count": 9,
   "id": "5757576e-c066-41c9-b4f9-501c794fd196",
   "metadata": {},
   "outputs": [
    {
     "name": "stdout",
     "output_type": "stream",
     "text": [
      "Found 8000 files belonging to 8 classes.\n"
     ]
    }
   ],
   "source": [
    "# Step 1: Load dataset\n",
    "dataset = image_dataset_from_directory(\n",
    "    dataset_path,\n",
    "    labels=\"inferred\",\n",
    "    label_mode=\"int\",\n",
    "    image_size=(64, 64), # Resize images to a standard size\n",
    "    batch_size=BATCH_SIZE,\n",
    "    shuffle=True\n",
    ")"
   ]
  },
  {
   "cell_type": "code",
   "execution_count": 29,
   "id": "6ea2aeac-eba9-48c2-a98d-4cf61f22ac52",
   "metadata": {},
   "outputs": [
    {
     "name": "stdout",
     "output_type": "stream",
     "text": [
      "Class Distribution:\n",
      "B-: 1000\n",
      "A+: 1000\n",
      "B+: 1000\n",
      "O+: 1000\n",
      "AB-: 1000\n",
      "O-: 1000\n",
      "AB+: 1000\n",
      "A-: 1000\n"
     ]
    }
   ],
   "source": [
    "# Step 2: Check class distribution\n",
    "class_names = dataset.class_names\n",
    "class_counts = Counter()\n",
    "\n",
    "for _, labels in dataset.unbatch():\n",
    "    class_counts[int(labels.numpy())] += 1\n",
    "\n",
    "print(\"Class Distribution:\")\n",
    "for i, count in class_counts.items():\n",
    "    print(f\"{class_names[i]}: {count}\")"
   ]
  },
  {
   "cell_type": "code",
   "execution_count": 32,
   "id": "25b6ab9a-a372-48d6-9ca7-79acc2aee75b",
   "metadata": {
    "scrolled": true
   },
   "outputs": [],
   "source": [
    "import matplotlib.pyplot as plt\n",
    "\n",
    "def plot_class_distribution(class_names, class_counts):\n",
    "    \"\"\"\n",
    "    Plots the distribution of classes in the dataset.\n",
    "\n",
    "    Parameters:\n",
    "    class_names (list): List of class names.\n",
    "    class_counts (dict): Dictionary with class indices as keys and counts as values.\n",
    "\n",
    "    Returns:\n",
    "    None\n",
    "    \"\"\"\n",
    "\n",
    "    # Extract class names and their corresponding counts\n",
    "    classes = [class_names[i] for i in class_counts.keys()]\n",
    "    counts = [class_counts[i] for i in class_counts.keys()]\n",
    "    \n",
    "    plt.figure(figsize=(10, 6))\n",
    "    plt.bar(classes, counts, color='skyblue')\n",
    "    plt.xlabel('Class')\n",
    "    plt.ylabel('Number of Samples')\n",
    "    plt.title('Distribution of Classes in the Dataset')\n",
    "    plt.xticks(rotation=45)"
   ]
  },
  {
   "cell_type": "code",
   "execution_count": 33,
   "id": "bd13bf4f-5a14-43fc-97e0-91b3d62ca6da",
   "metadata": {},
   "outputs": [
    {
     "data": {
      "image/png": "[encoded data removed]",
      "text/plain": [
       "<Figure size 1000x600 with 1 Axes>"
      ]
     },
     "metadata": {},
     "output_type": "display_data"
    }
   ],
   "source": [
    "# Assuming class_names and class_counts are already calculated\n",
    "plot_class_distribution(class_names, class_counts)"
   ]
  },
  {
   "cell_type": "code",
   "execution_count": 34,
   "id": "e0747097-23e7-4e71-8802-d310022610c0",
   "metadata": {},
   "outputs": [],
   "source": [
    "max_count = max(class_counts.values())"
   ]
  },
  {
   "cell_type": "code",
   "execution_count": 35,
   "id": "4109b407-a7cd-46bc-87b9-bdb4c7e7791a",
   "metadata": {},
   "outputs": [],
   "source": [
    "# Function to oversample a class\n",
    "def oversample_class(class_id, count, max_count):\n",
    "    # Ensure the dataset is unbatched for filtering\n",
    "    unbatched_dataset = dataset.unbatch()\n",
    "\n",
    "    # Filter the dataset for the specific class\n",
    "    class_dataset = unbatched_dataset.filter(lambda img, lbl: tf.equal(lbl, class_id))\n",
    "\n",
    "    # Calculate the number of repetitions needed\n",
    "    repeat_factor = max_count // count + (max_count % count > 0)\n",
    "\n",
    "    # Repeat the dataset to match the desired count\n",
    "    return class_dataset.repeat(repeat_factor).take(max_count)"
   ]
  },
  {
   "cell_type": "code",
   "execution_count": 36,
   "id": "ac431b96-c00a-4911-af98-68ef118958fc",
   "metadata": {},
   "outputs": [
    {
     "data": {
      "image/png": "[encoded data removed]",
      "text/plain": [
       "<Figure size 1000x600 with 1 Axes>"
      ]
     },
     "metadata": {},
     "output_type": "display_data"
    }
   ],
   "source": [
    "# Step 1: Balance the dataset\n",
    "balanced_datasets = []\n",
    "for class_id, count in class_counts.items():\n",
    "    balanced_datasets.append(oversample_class(class_id, count, max_count))\n",
    "\n",
    "# Step 2: Combine balanced datasets\n",
    "balanced_dataset = tf.data.Dataset.sample_from_datasets(balanced_datasets)\n",
    "\n",
    "# Step 3: Check balanced class distribution\n",
    "balanced_class_counts = Counter([int(lbl.numpy()) for _, lbl in balanced_dataset])\n",
    "plot_class_distribution(class_names, balanced_class_counts)\n",
    "\n",
    "# Step 4: Batch the balanced dataset\n",
    "balanced_dataset = balanced_dataset.batch(BATCH_SIZE, drop_remainder=True)"
   ]
  },
  {
   "cell_type": "code",
   "execution_count": 37,
   "id": "5c7d72b2-a91b-4abf-9f94-28f218f33216",
   "metadata": {},
   "outputs": [
    {
     "name": "stdout",
     "output_type": "stream",
     "text": [
      "(32, 64, 64, 3)\n",
      "(32, 64, 64, 3)\n",
      "(32, 64, 64, 3)\n",
      "(32, 64, 64, 3)\n",
      "(32, 64, 64, 3)\n",
      "(32, 64, 64, 3)\n",
      "(32, 64, 64, 3)\n",
      "(32, 64, 64, 3)\n",
      "(32, 64, 64, 3)\n",
      "(32, 64, 64, 3)\n"
     ]
    }
   ],
   "source": [
    "for sample in balanced_dataset.take(10):\n",
    "    print(sample[0].shape)"
   ]
  },
  {
   "cell_type": "code",
   "execution_count": 39,
   "id": "5adedcf2-e81f-4b85-800d-483fcf550b13",
   "metadata": {},
   "outputs": [
    {
     "name": "stdout",
     "output_type": "stream",
     "text": [
      "Total dataset size: 8000\n"
     ]
    }
   ],
   "source": [
    "balanced_dataset_unbatched = balanced_dataset.unbatch()\n",
    "dataset_size = sum(1 for _ in balanced_dataset_unbatched)\n",
    "\n",
    "print(f\"Total dataset size: {dataset_size}\")"
   ]
  },
  {
   "cell_type": "code",
   "execution_count": 41,
   "id": "aa56b1f5-9d4d-4be7-a6ca-77de9f9758f8",
   "metadata": {},
   "outputs": [
    {
     "name": "stdout",
     "output_type": "stream",
     "text": [
      "Training dataset size: 5600\n",
      "Validation dataset size: 1600\n",
      "Testing dataset size: 800\n"
     ]
    }
   ],
   "source": [
    "#Define train,validation and test ratio\n",
    "train_ratio = 0.7\n",
    "val_ratio = 0.2\n",
    "# Unbatch the dataset to work at the sample level\n",
    "balanced_dataset_unbatched = balanced_dataset.unbatch()\n",
    "\n",
    "# Compute sizes based on dataset size and desired splits\n",
    "train_size = int(train_ratio * dataset_size)\n",
    "val_size = int(val_ratio * dataset_size)\n",
    "\n",
    "# Split the dataset into training, validation, and test\n",
    "train_dataset = balanced_dataset_unbatched.take(train_size)\n",
    "val_test_dataset = balanced_dataset_unbatched.skip(train_size)\n",
    "val_dataset = val_test_dataset.take(val_size)\n",
    "test_dataset = val_test_dataset.skip(val_size)\n",
    "\n",
    "# Rebatch the datasets after splitting\n",
    "train_dataset = train_dataset.batch(BATCH_SIZE, drop_remainder=True)\n",
    "val_dataset = val_dataset.batch(BATCH_SIZE, drop_remainder=True)\n",
    "test_dataset = test_dataset.batch(BATCH_SIZE, drop_remainder=True)\n",
    "# Check the number of batches in each dataset\n",
    "train_batch_count = sum(1 for _ in train_dataset)\n",
    "val_batch_count = sum(1 for _ in val_dataset)\n",
    "test_batch_count = sum(1 for _ in test_dataset)\n",
    "\n",
    "print(f\"Training dataset size: {train_batch_count * BATCH_SIZE}\")\n",
    "print(f\"Validation dataset size: {val_batch_count * BATCH_SIZE}\")\n",
    "print(f\"Testing dataset size: {test_batch_count * BATCH_SIZE}\")"
   ]
  },
  {
   "cell_type": "code",
   "execution_count": 44,
   "id": "e63478cb-7635-4eb2-8c36-6736b140e666",
   "metadata": {},
   "outputs": [],
   "source": [
    "import tensorflow as tf\n",
    "\n",
    "def create_high_accuracy_model(class_names):\n",
    "    model = tf.keras.Sequential([\n",
    "        tf.keras.Input(shape=(64, 64, 3)),  # Define the input shape directly with Input layer\n",
    "        tf.keras.layers.Conv2D(32, (3, 3), activation='relu', padding='same'),\n",
    "        tf.keras.layers.MaxPooling2D((2, 2)),\n",
    "        tf.keras.layers.Dropout(0.3),\n",
    "        \n",
    "        tf.keras.layers.Conv2D(64, (3, 3), activation='relu', padding='same'),\n",
    "        tf.keras.layers.MaxPooling2D((2, 2)),\n",
    "        tf.keras.layers.Dropout(0.4),\n",
    "        \n",
    "        tf.keras.layers.Conv2D(128, (3, 3), activation='relu', padding='same'),\n",
    "        tf.keras.layers.MaxPooling2D((2, 2)),\n",
    "        tf.keras.layers.Dropout(0.4),\n",
    "        \n",
    "        tf.keras.layers.Conv2D(256, (3, 3), activation='relu', padding='same'),\n",
    "        tf.keras.layers.MaxPooling2D(2, 2),\n",
    "        tf.keras.layers.Dropout(0.4),\n",
    "\n",
    "        tf.keras.layers.Conv2D(512, (3, 3), activation='relu', padding='same'),\n",
    "        tf.keras.layers.MaxPooling2D(2, 2),\n",
    "        tf.keras.layers.Dropout(0.5),\n",
    "\n",
    "        tf.keras.layers.Flatten(),\n",
    "        tf.keras.layers.Dense(1024, activation='relu'),\n",
    "        tf.keras.layers.Dropout(0.5),\n",
    "        \n",
    "        tf.keras.layers.Dense(len(class_names), activation='softmax')\n",
    "    ])\n",
    "    \n",
    "    model.compile(optimizer='adam', loss='sparse_categorical_crossentropy', metrics=['accuracy'])\n",
    "    return model\n",
    "\n",
    "# Example usage assuming class_names is defined\n",
    "# class_names = ['class1', 'class2', ...] # Define your class names based on your dataset\n",
    "high_acc_model = create_high_accuracy_model(class_names)"
   ]
  },
  {
   "cell_type": "code",
   "execution_count": 45,
   "id": "f8cb6659-839d-46a9-8a58-94d67c5e6231",
   "metadata": {},
   "outputs": [],
   "source": [
    "from tensorflow.keras.callbacks import ReduceLROnPlateau, EarlyStopping\n",
    "\n",
    "# Define ReduceLROnPlateau callback to reduce learning rate when validation loss plateaus\n",
    "reduce_lr = ReduceLROnPlateau(\n",
    "    monitor='val_loss',        # Monitor validation loss\n",
    "    factor=0.5,                # Reduce the learning rate by a factor of 0.5\n",
    "    patience=3,                # Wait for 3 epochs without improvement before reducing LR\n",
    "    verbose=1,                 # Print a message when the learning rate is reduced\n",
    "    min_lr=1e-6               # Minimum learning rate to avoid too small values\n",
    ")\n",
    "\n",
    "# Define EarlyStopping callback to stop training when validation loss doesn't improve\n",
    "early_stop = EarlyStopping(\n",
    "    monitor='val_loss',        # Monitor validation loss\n",
    "    patience=5,                # Stop after 5 epochs without improvement\n",
    "    verbose=1,                 # Print a message when training is stopped\n",
    "    restore_best_weights=True   # Restore the model weights from the best epoch\n",
    ")"
   ]
  },
  {
   "cell_type": "code",
   "execution_count": 46,
   "id": "99626f06-17be-4f3d-95ed-936b0b691544",
   "metadata": {},
   "outputs": [
    {
     "name": "stdout",
     "output_type": "stream",
     "text": [
      "Epoch 1/50\n",
      "    175/Unknown \u001b[1m16s\u001b[0m 88ms/step - accuracy: 0.1283 - loss: 41.6276 "
     ]
    },
    {
     "name": "stderr",
     "output_type": "stream",
     "text": [
      "/Users/thousifahamed/Desktop/BloodGroupDetectionUsingFingerprint/venv/lib/python3.12/site-packages/keras/src/trainers/epoch_iterator.py:151: UserWarning: Your input ran out of data; interrupting training. Make sure that your dataset or generator can generate at least `steps_per_epoch * epochs` batches. You may need to use the `.repeat()` function when building your dataset.\n",
      "  self._interrupted_warning()\n"
     ]
    },
    {
     "name": "stdout",
     "output_type": "stream",
     "text": [
      "\u001b[1m175/175\u001b[0m \u001b[32m━━━━━━━━━━━━━━━━━━━━\u001b[0m\u001b[37m\u001b[0m \u001b[1m19s\u001b[0m 103ms/step - accuracy: 0.1283 - loss: 41.4532 - val_accuracy: 0.1262 - val_loss: 2.0381 - learning_rate: 0.0010\n",
      "Epoch 2/50\n",
      "\u001b[1m175/175\u001b[0m \u001b[32m━━━━━━━━━━━━━━━━━━━━\u001b[0m\u001b[37m\u001b[0m \u001b[1m18s\u001b[0m 102ms/step - accuracy: 0.1864 - loss: 2.0248 - val_accuracy: 0.1262 - val_loss: 2.0367 - learning_rate: 0.0010\n",
      "Epoch 3/50\n",
      "\u001b[1m  1/175\u001b[0m \u001b[37m━━━━━━━━━━━━━━━━━━━━\u001b[0m \u001b[1m27s\u001b[0m 160ms/step - accuracy: 0.1562 - loss: 1.8812"
     ]
    },
    {
     "name": "stderr",
     "output_type": "stream",
     "text": [
      "2025-02-15 15:51:28.117740: I tensorflow/core/framework/local_rendezvous.cc:405] Local rendezvous is aborting with status: OUT_OF_RANGE: End of sequence\n",
      "\t [[{{node IteratorGetNext}}]]\n"
     ]
    },
    {
     "name": "stdout",
     "output_type": "stream",
     "text": [
      "\u001b[1m175/175\u001b[0m \u001b[32m━━━━━━━━━━━━━━━━━━━━\u001b[0m\u001b[37m\u001b[0m \u001b[1m18s\u001b[0m 102ms/step - accuracy: 0.3356 - loss: 1.7194 - val_accuracy: 0.1477 - val_loss: 1.9661 - learning_rate: 0.0010\n",
      "Epoch 4/50\n",
      "\u001b[1m175/175\u001b[0m \u001b[32m━━━━━━━━━━━━━━━━━━━━\u001b[0m\u001b[37m\u001b[0m \u001b[1m18s\u001b[0m 104ms/step - accuracy: 0.4518 - loss: 1.4375 - val_accuracy: 0.3241 - val_loss: 1.7446 - learning_rate: 0.0010\n",
      "Epoch 5/50\n",
      "\u001b[1m175/175\u001b[0m \u001b[32m━━━━━━━━━━━━━━━━━━━━\u001b[0m\u001b[37m\u001b[0m \u001b[1m18s\u001b[0m 104ms/step - accuracy: 0.5309 - loss: 1.2546 - val_accuracy: 0.4301 - val_loss: 1.5185 - learning_rate: 0.0010\n",
      "Epoch 6/50\n",
      "\u001b[1m175/175\u001b[0m \u001b[32m━━━━━━━━━━━━━━━━━━━━\u001b[0m\u001b[37m\u001b[0m \u001b[1m19s\u001b[0m 107ms/step - accuracy: 0.5495 - loss: 1.1946 - val_accuracy: 0.4099 - val_loss: 1.4833 - learning_rate: 0.0010\n",
      "Epoch 7/50\n",
      "\u001b[1m175/175\u001b[0m \u001b[32m━━━━━━━━━━━━━━━━━━━━\u001b[0m\u001b[37m\u001b[0m \u001b[1m19s\u001b[0m 106ms/step - accuracy: 0.5925 - loss: 1.0806 - val_accuracy: 0.6489 - val_loss: 1.1942 - learning_rate: 0.0010\n",
      "Epoch 8/50\n",
      "\u001b[1m175/175\u001b[0m \u001b[32m━━━━━━━━━━━━━━━━━━━━\u001b[0m\u001b[37m\u001b[0m \u001b[1m19s\u001b[0m 109ms/step - accuracy: 0.6158 - loss: 1.0361 - val_accuracy: 0.6955 - val_loss: 1.1043 - learning_rate: 0.0010\n",
      "Epoch 9/50\n",
      "\u001b[1m175/175\u001b[0m \u001b[32m━━━━━━━━━━━━━━━━━━━━\u001b[0m\u001b[37m\u001b[0m \u001b[1m19s\u001b[0m 111ms/step - accuracy: 0.6538 - loss: 0.9474 - val_accuracy: 0.7604 - val_loss: 0.9819 - learning_rate: 0.0010\n",
      "Epoch 10/50\n",
      "\u001b[1m175/175\u001b[0m \u001b[32m━━━━━━━━━━━━━━━━━━━━\u001b[0m\u001b[37m\u001b[0m \u001b[1m19s\u001b[0m 110ms/step - accuracy: 0.6773 - loss: 0.8562 - val_accuracy: 0.7665 - val_loss: 0.8982 - learning_rate: 0.0010\n",
      "Epoch 11/50\n",
      "\u001b[1m  1/175\u001b[0m \u001b[37m━━━━━━━━━━━━━━━━━━━━\u001b[0m \u001b[1m32s\u001b[0m 185ms/step - accuracy: 0.8125 - loss: 0.5624"
     ]
    },
    {
     "name": "stderr",
     "output_type": "stream",
     "text": [
      "2025-02-15 15:53:58.147053: I tensorflow/core/framework/local_rendezvous.cc:405] Local rendezvous is aborting with status: OUT_OF_RANGE: End of sequence\n",
      "\t [[{{node IteratorGetNext}}]]\n"
     ]
    },
    {
     "name": "stdout",
     "output_type": "stream",
     "text": [
      "\u001b[1m175/175\u001b[0m \u001b[32m━━━━━━━━━━━━━━━━━━━━\u001b[0m\u001b[37m\u001b[0m \u001b[1m19s\u001b[0m 108ms/step - accuracy: 0.6827 - loss: 0.8420 - val_accuracy: 0.7249 - val_loss: 0.9834 - learning_rate: 0.0010\n",
      "Epoch 12/50\n",
      "\u001b[1m175/175\u001b[0m \u001b[32m━━━━━━━━━━━━━━━━━━━━\u001b[0m\u001b[37m\u001b[0m \u001b[1m19s\u001b[0m 109ms/step - accuracy: 0.7043 - loss: 0.8039 - val_accuracy: 0.7384 - val_loss: 0.8887 - learning_rate: 0.0010\n",
      "Epoch 13/50\n",
      "\u001b[1m175/175\u001b[0m \u001b[32m━━━━━━━━━━━━━━━━━━━━\u001b[0m\u001b[37m\u001b[0m \u001b[1m19s\u001b[0m 110ms/step - accuracy: 0.7081 - loss: 0.7883 - val_accuracy: 0.7561 - val_loss: 0.8229 - learning_rate: 0.0010\n",
      "Epoch 14/50\n",
      "\u001b[1m175/175\u001b[0m \u001b[32m━━━━━━━━━━━━━━━━━━━━\u001b[0m\u001b[37m\u001b[0m \u001b[1m19s\u001b[0m 111ms/step - accuracy: 0.7148 - loss: 0.7716 - val_accuracy: 0.6789 - val_loss: 0.9842 - learning_rate: 0.0010\n",
      "Epoch 15/50\n",
      "\u001b[1m175/175\u001b[0m \u001b[32m━━━━━━━━━━━━━━━━━━━━\u001b[0m\u001b[37m\u001b[0m \u001b[1m19s\u001b[0m 110ms/step - accuracy: 0.7303 - loss: 0.7508 - val_accuracy: 0.7598 - val_loss: 0.8221 - learning_rate: 0.0010\n",
      "Epoch 16/50\n",
      "\u001b[1m175/175\u001b[0m \u001b[32m━━━━━━━━━━━━━━━━━━━━\u001b[0m\u001b[37m\u001b[0m \u001b[1m19s\u001b[0m 110ms/step - accuracy: 0.7256 - loss: 0.7419 - val_accuracy: 0.7525 - val_loss: 0.8507 - learning_rate: 0.0010\n",
      "Epoch 17/50\n",
      "\u001b[1m175/175\u001b[0m \u001b[32m━━━━━━━━━━━━━━━━━━━━\u001b[0m\u001b[37m\u001b[0m \u001b[1m20s\u001b[0m 113ms/step - accuracy: 0.7099 - loss: 0.7556 - val_accuracy: 0.7469 - val_loss: 0.7786 - learning_rate: 0.0010\n",
      "Epoch 18/50\n",
      "\u001b[1m175/175\u001b[0m \u001b[32m━━━━━━━━━━━━━━━━━━━━\u001b[0m\u001b[37m\u001b[0m \u001b[1m20s\u001b[0m 113ms/step - accuracy: 0.7177 - loss: 0.7612 - val_accuracy: 0.7868 - val_loss: 0.6467 - learning_rate: 0.0010\n",
      "Epoch 19/50\n",
      "\u001b[1m175/175\u001b[0m \u001b[32m━━━━━━━━━━━━━━━━━━━━\u001b[0m\u001b[37m\u001b[0m \u001b[1m20s\u001b[0m 111ms/step - accuracy: 0.7400 - loss: 0.7206 - val_accuracy: 0.7647 - val_loss: 0.8991 - learning_rate: 0.0010\n",
      "Epoch 20/50\n",
      "\u001b[1m175/175\u001b[0m \u001b[32m━━━━━━━━━━━━━━━━━━━━\u001b[0m\u001b[37m\u001b[0m \u001b[1m20s\u001b[0m 112ms/step - accuracy: 0.7314 - loss: 0.7176 - val_accuracy: 0.6924 - val_loss: 0.8648 - learning_rate: 0.0010\n",
      "Epoch 21/50\n",
      "\u001b[1m175/175\u001b[0m \u001b[32m━━━━━━━━━━━━━━━━━━━━\u001b[0m\u001b[37m\u001b[0m \u001b[1m0s\u001b[0m 96ms/step - accuracy: 0.7561 - loss: 0.6873 \n",
      "Epoch 21: ReduceLROnPlateau reducing learning rate to 0.0005000000237487257.\n",
      "\u001b[1m175/175\u001b[0m \u001b[32m━━━━━━━━━━━━━━━━━━━━\u001b[0m\u001b[37m\u001b[0m \u001b[1m20s\u001b[0m 111ms/step - accuracy: 0.7560 - loss: 0.6873 - val_accuracy: 0.8107 - val_loss: 0.6853 - learning_rate: 0.0010\n",
      "Epoch 22/50\n",
      "\u001b[1m175/175\u001b[0m \u001b[32m━━━━━━━━━━━━━━━━━━━━\u001b[0m\u001b[37m\u001b[0m \u001b[1m20s\u001b[0m 113ms/step - accuracy: 0.7848 - loss: 0.6084 - val_accuracy: 0.8125 - val_loss: 0.6340 - learning_rate: 5.0000e-04\n",
      "Epoch 23/50\n",
      "\u001b[1m175/175\u001b[0m \u001b[32m━━━━━━━━━━━━━━━━━━━━\u001b[0m\u001b[37m\u001b[0m \u001b[1m20s\u001b[0m 117ms/step - accuracy: 0.8038 - loss: 0.5428 - val_accuracy: 0.8180 - val_loss: 0.6435 - learning_rate: 5.0000e-04\n",
      "Epoch 24/50\n",
      "\u001b[1m175/175\u001b[0m \u001b[32m━━━━━━━━━━━━━━━━━━━━\u001b[0m\u001b[37m\u001b[0m \u001b[1m21s\u001b[0m 121ms/step - accuracy: 0.7857 - loss: 0.5721 - val_accuracy: 0.7690 - val_loss: 0.6950 - learning_rate: 5.0000e-04\n",
      "Epoch 25/50\n",
      "\u001b[1m175/175\u001b[0m \u001b[32m━━━━━━━━━━━━━━━━━━━━\u001b[0m\u001b[37m\u001b[0m \u001b[1m22s\u001b[0m 124ms/step - accuracy: 0.7931 - loss: 0.5428 - val_accuracy: 0.8303 - val_loss: 0.5692 - learning_rate: 5.0000e-04\n",
      "Epoch 26/50\n",
      "\u001b[1m175/175\u001b[0m \u001b[32m━━━━━━━━━━━━━━━━━━━━\u001b[0m\u001b[37m\u001b[0m \u001b[1m22s\u001b[0m 124ms/step - accuracy: 0.8196 - loss: 0.5064 - val_accuracy: 0.8284 - val_loss: 0.5681 - learning_rate: 5.0000e-04\n",
      "Epoch 27/50\n",
      "\u001b[1m  1/175\u001b[0m \u001b[37m━━━━━━━━━━━━━━━━━━━━\u001b[0m \u001b[1m32s\u001b[0m 190ms/step - accuracy: 0.7812 - loss: 0.7621"
     ]
    },
    {
     "name": "stderr",
     "output_type": "stream",
     "text": [
      "2025-02-15 15:59:17.578465: I tensorflow/core/framework/local_rendezvous.cc:405] Local rendezvous is aborting with status: OUT_OF_RANGE: End of sequence\n",
      "\t [[{{node IteratorGetNext}}]]\n"
     ]
    },
    {
     "name": "stdout",
     "output_type": "stream",
     "text": [
      "\u001b[1m175/175\u001b[0m \u001b[32m━━━━━━━━━━━━━━━━━━━━\u001b[0m\u001b[37m\u001b[0m \u001b[1m22s\u001b[0m 123ms/step - accuracy: 0.7934 - loss: 0.5452 - val_accuracy: 0.8241 - val_loss: 0.5349 - learning_rate: 5.0000e-04\n",
      "Epoch 28/50\n",
      "\u001b[1m175/175\u001b[0m \u001b[32m━━━━━━━━━━━━━━━━━━━━\u001b[0m\u001b[37m\u001b[0m \u001b[1m22s\u001b[0m 125ms/step - accuracy: 0.7982 - loss: 0.5232 - val_accuracy: 0.8241 - val_loss: 0.5427 - learning_rate: 5.0000e-04\n",
      "Epoch 29/50\n",
      "\u001b[1m175/175\u001b[0m \u001b[32m━━━━━━━━━━━━━━━━━━━━\u001b[0m\u001b[37m\u001b[0m \u001b[1m22s\u001b[0m 127ms/step - accuracy: 0.8112 - loss: 0.5154 - val_accuracy: 0.8015 - val_loss: 0.6189 - learning_rate: 5.0000e-04\n",
      "Epoch 30/50\n",
      "\u001b[1m175/175\u001b[0m \u001b[32m━━━━━━━━━━━━━━━━━━━━\u001b[0m\u001b[37m\u001b[0m \u001b[1m0s\u001b[0m 107ms/step - accuracy: 0.8066 - loss: 0.5194 \n",
      "Epoch 30: ReduceLROnPlateau reducing learning rate to 0.0002500000118743628.\n",
      "\u001b[1m175/175\u001b[0m \u001b[32m━━━━━━━━━━━━━━━━━━━━\u001b[0m\u001b[37m\u001b[0m \u001b[1m22s\u001b[0m 124ms/step - accuracy: 0.8066 - loss: 0.5194 - val_accuracy: 0.8272 - val_loss: 0.5755 - learning_rate: 5.0000e-04\n",
      "Epoch 31/50\n",
      "\u001b[1m175/175\u001b[0m \u001b[32m━━━━━━━━━━━━━━━━━━━━\u001b[0m\u001b[37m\u001b[0m \u001b[1m21s\u001b[0m 122ms/step - accuracy: 0.8102 - loss: 0.5035 - val_accuracy: 0.8388 - val_loss: 0.5083 - learning_rate: 2.5000e-04\n",
      "Epoch 32/50\n",
      "\u001b[1m175/175\u001b[0m \u001b[32m━━━━━━━━━━━━━━━━━━━━\u001b[0m\u001b[37m\u001b[0m \u001b[1m23s\u001b[0m 128ms/step - accuracy: 0.8160 - loss: 0.4805 - val_accuracy: 0.8493 - val_loss: 0.5119 - learning_rate: 2.5000e-04\n",
      "Epoch 33/50\n",
      "\u001b[1m175/175\u001b[0m \u001b[32m━━━━━━━━━━━━━━━━━━━━\u001b[0m\u001b[37m\u001b[0m \u001b[1m24s\u001b[0m 132ms/step - accuracy: 0.8144 - loss: 0.4880 - val_accuracy: 0.8450 - val_loss: 0.4689 - learning_rate: 2.5000e-04\n",
      "Epoch 34/50\n",
      "\u001b[1m175/175\u001b[0m \u001b[32m━━━━━━━━━━━━━━━━━━━━\u001b[0m\u001b[37m\u001b[0m \u001b[1m22s\u001b[0m 123ms/step - accuracy: 0.8292 - loss: 0.4351 - val_accuracy: 0.8419 - val_loss: 0.4893 - learning_rate: 2.5000e-04\n",
      "Epoch 35/50\n",
      "\u001b[1m175/175\u001b[0m \u001b[32m━━━━━━━━━━━━━━━━━━━━\u001b[0m\u001b[37m\u001b[0m \u001b[1m21s\u001b[0m 120ms/step - accuracy: 0.8323 - loss: 0.4292 - val_accuracy: 0.8333 - val_loss: 0.5387 - learning_rate: 2.5000e-04\n",
      "Epoch 36/50\n",
      "\u001b[1m175/175\u001b[0m \u001b[32m━━━━━━━━━━━━━━━━━━━━\u001b[0m\u001b[37m\u001b[0m \u001b[1m21s\u001b[0m 121ms/step - accuracy: 0.8440 - loss: 0.4102 - val_accuracy: 0.8548 - val_loss: 0.4621 - learning_rate: 2.5000e-04\n",
      "Epoch 37/50\n",
      "\u001b[1m175/175\u001b[0m \u001b[32m━━━━━━━━━━━━━━━━━━━━\u001b[0m\u001b[37m\u001b[0m \u001b[1m21s\u001b[0m 119ms/step - accuracy: 0.8345 - loss: 0.4377 - val_accuracy: 0.8542 - val_loss: 0.4621 - learning_rate: 2.5000e-04\n",
      "Epoch 38/50\n",
      "\u001b[1m175/175\u001b[0m \u001b[32m━━━━━━━━━━━━━━━━━━━━\u001b[0m\u001b[37m\u001b[0m \u001b[1m21s\u001b[0m 119ms/step - accuracy: 0.8352 - loss: 0.4321 - val_accuracy: 0.8529 - val_loss: 0.4458 - learning_rate: 2.5000e-04\n",
      "Epoch 39/50\n",
      "\u001b[1m175/175\u001b[0m \u001b[32m━━━━━━━━━━━━━━━━━━━━\u001b[0m\u001b[37m\u001b[0m \u001b[1m21s\u001b[0m 121ms/step - accuracy: 0.8374 - loss: 0.4140 - val_accuracy: 0.8505 - val_loss: 0.4433 - learning_rate: 2.5000e-04\n",
      "Epoch 40/50\n",
      "\u001b[1m175/175\u001b[0m \u001b[32m━━━━━━━━━━━━━━━━━━━━\u001b[0m\u001b[37m\u001b[0m \u001b[1m21s\u001b[0m 121ms/step - accuracy: 0.8516 - loss: 0.3975 - val_accuracy: 0.8493 - val_loss: 0.4557 - learning_rate: 2.5000e-04\n",
      "Epoch 41/50\n",
      "\u001b[1m175/175\u001b[0m \u001b[32m━━━━━━━━━━━━━━━━━━━━\u001b[0m\u001b[37m\u001b[0m \u001b[1m21s\u001b[0m 122ms/step - accuracy: 0.8343 - loss: 0.4148 - val_accuracy: 0.8315 - val_loss: 0.4658 - learning_rate: 2.5000e-04\n",
      "Epoch 42/50\n",
      "\u001b[1m175/175\u001b[0m \u001b[32m━━━━━━━━━━━━━━━━━━━━\u001b[0m\u001b[37m\u001b[0m \u001b[1m0s\u001b[0m 105ms/step - accuracy: 0.8415 - loss: 0.4244 \n",
      "Epoch 42: ReduceLROnPlateau reducing learning rate to 0.0001250000059371814.\n",
      "\u001b[1m175/175\u001b[0m \u001b[32m━━━━━━━━━━━━━━━━━━━━\u001b[0m\u001b[37m\u001b[0m \u001b[1m21s\u001b[0m 121ms/step - accuracy: 0.8415 - loss: 0.4243 - val_accuracy: 0.8413 - val_loss: 0.4547 - learning_rate: 2.5000e-04\n",
      "Epoch 43/50\n",
      "\u001b[1m175/175\u001b[0m \u001b[32m━━━━━━━━━━━━━━━━━━━━\u001b[0m\u001b[37m\u001b[0m \u001b[1m21s\u001b[0m 120ms/step - accuracy: 0.8523 - loss: 0.3966 - val_accuracy: 0.8529 - val_loss: 0.4245 - learning_rate: 1.2500e-04\n",
      "Epoch 44/50\n",
      "\u001b[1m175/175\u001b[0m \u001b[32m━━━━━━━━━━━━━━━━━━━━\u001b[0m\u001b[37m\u001b[0m \u001b[1m21s\u001b[0m 122ms/step - accuracy: 0.8551 - loss: 0.3785 - val_accuracy: 0.8603 - val_loss: 0.4109 - learning_rate: 1.2500e-04\n",
      "Epoch 45/50\n",
      "\u001b[1m175/175\u001b[0m \u001b[32m━━━━━━━━━━━━━━━━━━━━\u001b[0m\u001b[37m\u001b[0m \u001b[1m23s\u001b[0m 129ms/step - accuracy: 0.8641 - loss: 0.3728 - val_accuracy: 0.8646 - val_loss: 0.4011 - learning_rate: 1.2500e-04\n",
      "Epoch 46/50\n",
      "\u001b[1m175/175\u001b[0m \u001b[32m━━━━━━━━━━━━━━━━━━━━\u001b[0m\u001b[37m\u001b[0m \u001b[1m22s\u001b[0m 123ms/step - accuracy: 0.8578 - loss: 0.3605 - val_accuracy: 0.8597 - val_loss: 0.4349 - learning_rate: 1.2500e-04\n",
      "Epoch 47/50\n",
      "\u001b[1m175/175\u001b[0m \u001b[32m━━━━━━━━━━━━━━━━━━━━\u001b[0m\u001b[37m\u001b[0m \u001b[1m21s\u001b[0m 119ms/step - accuracy: 0.8674 - loss: 0.3538 - val_accuracy: 0.8646 - val_loss: 0.4019 - learning_rate: 1.2500e-04\n",
      "Epoch 48/50\n",
      "\u001b[1m175/175\u001b[0m \u001b[32m━━━━━━━━━━━━━━━━━━━━\u001b[0m\u001b[37m\u001b[0m \u001b[1m21s\u001b[0m 117ms/step - accuracy: 0.8651 - loss: 0.3499 - val_accuracy: 0.8683 - val_loss: 0.3970 - learning_rate: 1.2500e-04\n",
      "Epoch 49/50\n",
      "\u001b[1m175/175\u001b[0m \u001b[32m━━━━━━━━━━━━━━━━━━━━\u001b[0m\u001b[37m\u001b[0m \u001b[1m20s\u001b[0m 115ms/step - accuracy: 0.8672 - loss: 0.3480 - val_accuracy: 0.8529 - val_loss: 0.4114 - learning_rate: 1.2500e-04\n",
      "Epoch 50/50\n",
      "\u001b[1m175/175\u001b[0m \u001b[32m━━━━━━━━━━━━━━━━━━━━\u001b[0m\u001b[37m\u001b[0m \u001b[1m20s\u001b[0m 115ms/step - accuracy: 0.8628 - loss: 0.3572 - val_accuracy: 0.8627 - val_loss: 0.3996 - learning_rate: 1.2500e-04\n",
      "Restoring model weights from the end of the best epoch: 48.\n"
     ]
    }
   ],
   "source": [
    "# Train the model\n",
    "\n",
    "history_high_acc = high_acc_model.fit(\n",
    "    train_dataset,\n",
    "    validation_data=val_dataset,\n",
    "    epochs=50,  # Adjust the number of epochs based on your preference\n",
    "    callbacks=[reduce_lr, early_stop]\n",
    ")"
   ]
  },
  {
   "cell_type": "code",
   "execution_count": 47,
   "id": "c9862551-86f5-489b-a121-3735c72d136b",
   "metadata": {},
   "outputs": [
    {
     "name": "stdout",
     "output_type": "stream",
     "text": [
      "\u001b[1m50/50\u001b[0m \u001b[32m━━━━━━━━━━━━━━━━━━━━\u001b[0m\u001b[37m\u001b[0m \u001b[1m3s\u001b[0m 26ms/step - accuracy: 0.8850 - loss: 0.3838\n",
      "High Accuracy Model Loss: 0.39456707239151, Accuracy: 0.8658088445663452\n"
     ]
    }
   ],
   "source": [
    "# Evaluate the model on validation data\n",
    "high_acc_eval = high_acc_model.evaluate(val_dataset)\n",
    "\n",
    "print(f\"High Accuracy Model Loss: {high_acc_eval[0]}, Accuracy: {high_acc_eval[1]}\")"
   ]
  },
  {
   "cell_type": "code",
   "execution_count": 48,
   "id": "21b65c07-33cf-44b3-8d3d-3d861e567890",
   "metadata": {},
   "outputs": [
    {
     "data": {
      "image/png": "[encoded data removed]",
      "text/plain": [
       "<Figure size 640x480 with 1 Axes>"
      ]
     },
     "metadata": {},
     "output_type": "display_data"
    }
   ],
   "source": [
    "import matplotlib.pyplot as plt\n",
    "\n",
    "# Plot training & validation accuracy values\n",
    "def plot_accuracy(history):\n",
    "    plt.plot(history.history['accuracy'])\n",
    "    plt.plot(history.history['val_accuracy'])\n",
    "    plt.title('Model Accuracy')\n",
    "    plt.ylabel('Accuracy')\n",
    "    plt.xlabel('Epoch')\n",
    "    plt.legend(['Train', 'Validation'], loc='upper left')\n",
    "    plt.show()\n",
    "\n",
    "# Call the function to display the accuracy graph\n",
    "plot_accuracy(history_high_acc)"
   ]
  },
  {
   "cell_type": "code",
   "execution_count": 50,
   "id": "e78d862d-4daf-4ce6-909c-6d1a2094a56f",
   "metadata": {},
   "outputs": [
    {
     "name": "stdout",
     "output_type": "stream",
     "text": [
      "\u001b[1m1/1\u001b[0m \u001b[32m━━━━━━━━━━━━━━━━━━━━\u001b[0m\u001b[37m\u001b[0m \u001b[1m0s\u001b[0m 43ms/step\n",
      "\u001b[1m1/1\u001b[0m \u001b[32m━━━━━━━━━━━━━━━━━━━━\u001b[0m\u001b[37m\u001b[0m \u001b[1m0s\u001b[0m 40ms/step\n",
      "\u001b[1m1/1\u001b[0m \u001b[32m━━━━━━━━━━━━━━━━━━━━\u001b[0m\u001b[37m\u001b[0m \u001b[1m0s\u001b[0m 32ms/step\n",
      "\u001b[1m1/1\u001b[0m \u001b[32m━━━━━━━━━━━━━━━━━━━━\u001b[0m\u001b[37m\u001b[0m \u001b[1m0s\u001b[0m 36ms/step\n",
      "\u001b[1m1/1\u001b[0m \u001b[32m━━━━━━━━━━━━━━━━━━━━\u001b[0m\u001b[37m\u001b[0m \u001b[1m0s\u001b[0m 32ms/step\n",
      "\u001b[1m1/1\u001b[0m \u001b[32m━━━━━━━━━━━━━━━━━━━━\u001b[0m\u001b[37m\u001b[0m \u001b[1m0s\u001b[0m 42ms/step\n",
      "\u001b[1m1/1\u001b[0m \u001b[32m━━━━━━━━━━━━━━━━━━━━\u001b[0m\u001b[37m\u001b[0m \u001b[1m0s\u001b[0m 36ms/step\n",
      "\u001b[1m1/1\u001b[0m \u001b[32m━━━━━━━━━━━━━━━━━━━━\u001b[0m\u001b[37m\u001b[0m \u001b[1m0s\u001b[0m 33ms/step\n",
      "\u001b[1m1/1\u001b[0m \u001b[32m━━━━━━━━━━━━━━━━━━━━\u001b[0m\u001b[37m\u001b[0m \u001b[1m0s\u001b[0m 38ms/step\n",
      "\u001b[1m1/1\u001b[0m \u001b[32m━━━━━━━━━━━━━━━━━━━━\u001b[0m\u001b[37m\u001b[0m \u001b[1m0s\u001b[0m 33ms/step\n",
      "\u001b[1m1/1\u001b[0m \u001b[32m━━━━━━━━━━━━━━━━━━━━\u001b[0m\u001b[37m\u001b[0m \u001b[1m0s\u001b[0m 38ms/step\n",
      "\u001b[1m1/1\u001b[0m \u001b[32m━━━━━━━━━━━━━━━━━━━━\u001b[0m\u001b[37m\u001b[0m \u001b[1m0s\u001b[0m 32ms/step\n",
      "\u001b[1m1/1\u001b[0m \u001b[32m━━━━━━━━━━━━━━━━━━━━\u001b[0m\u001b[37m\u001b[0m \u001b[1m0s\u001b[0m 38ms/step\n",
      "\u001b[1m1/1\u001b[0m \u001b[32m━━━━━━━━━━━━━━━━━━━━\u001b[0m\u001b[37m\u001b[0m \u001b[1m0s\u001b[0m 35ms/step\n",
      "\u001b[1m1/1\u001b[0m \u001b[32m━━━━━━━━━━━━━━━━━━━━\u001b[0m\u001b[37m\u001b[0m \u001b[1m0s\u001b[0m 37ms/step\n",
      "\u001b[1m1/1\u001b[0m \u001b[32m━━━━━━━━━━━━━━━━━━━━\u001b[0m\u001b[37m\u001b[0m \u001b[1m0s\u001b[0m 35ms/step\n",
      "\u001b[1m1/1\u001b[0m \u001b[32m━━━━━━━━━━━━━━━━━━━━\u001b[0m\u001b[37m\u001b[0m \u001b[1m0s\u001b[0m 36ms/step\n",
      "\u001b[1m1/1\u001b[0m \u001b[32m━━━━━━━━━━━━━━━━━━━━\u001b[0m\u001b[37m\u001b[0m \u001b[1m0s\u001b[0m 35ms/step\n",
      "\u001b[1m1/1\u001b[0m \u001b[32m━━━━━━━━━━━━━━━━━━━━\u001b[0m\u001b[37m\u001b[0m \u001b[1m0s\u001b[0m 33ms/step\n",
      "\u001b[1m1/1\u001b[0m \u001b[32m━━━━━━━━━━━━━━━━━━━━\u001b[0m\u001b[37m\u001b[0m \u001b[1m0s\u001b[0m 38ms/step\n",
      "\u001b[1m1/1\u001b[0m \u001b[32m━━━━━━━━━━━━━━━━━━━━\u001b[0m\u001b[37m\u001b[0m \u001b[1m0s\u001b[0m 35ms/step\n",
      "\u001b[1m1/1\u001b[0m \u001b[32m━━━━━━━━━━━━━━━━━━━━\u001b[0m\u001b[37m\u001b[0m \u001b[1m0s\u001b[0m 35ms/step\n",
      "\u001b[1m1/1\u001b[0m \u001b[32m━━━━━━━━━━━━━━━━━━━━\u001b[0m\u001b[37m\u001b[0m \u001b[1m0s\u001b[0m 33ms/step\n",
      "\u001b[1m1/1\u001b[0m \u001b[32m━━━━━━━━━━━━━━━━━━━━\u001b[0m\u001b[37m\u001b[0m \u001b[1m0s\u001b[0m 39ms/step\n",
      "\u001b[1m1/1\u001b[0m \u001b[32m━━━━━━━━━━━━━━━━━━━━\u001b[0m\u001b[37m\u001b[0m \u001b[1m0s\u001b[0m 32ms/step\n",
      "Classification Report:\n",
      "              precision    recall  f1-score   support\n",
      "\n",
      "          A+       0.95      0.90      0.93       151\n",
      "          A-       0.89      0.83      0.86       149\n",
      "         AB+       0.84      0.90      0.87        72\n",
      "         AB-       0.89      0.87      0.88       119\n",
      "          B+       0.90      0.77      0.83        60\n",
      "          B-       0.69      0.94      0.79        51\n",
      "          O+       0.85      0.90      0.87       129\n",
      "          O-       0.82      0.80      0.81        69\n",
      "\n",
      "    accuracy                           0.87       800\n",
      "   macro avg       0.85      0.86      0.85       800\n",
      "weighted avg       0.87      0.87      0.87       800\n",
      "\n"
     ]
    },
    {
     "data": {
      "image/png": "[encoded data removed]",
      "text/plain": [
       "<Figure size 800x600 with 2 Axes>"
      ]
     },
     "metadata": {},
     "output_type": "display_data"
    }
   ],
   "source": [
    "import numpy as np\n",
    "import matplotlib.pyplot as plt\n",
    "import seaborn as sns\n",
    "from sklearn.metrics import classification_report, confusion_matrix\n",
    "import tensorflow as tf\n",
    "\n",
    "# Get predictions on the test dataset\n",
    "y_true = []  # True labels\n",
    "y_pred = []  # Predicted labels\n",
    "\n",
    "# Iterate over the test dataset and collect the true and predicted labels\n",
    "for images, labels in test_dataset:\n",
    "    predictions = high_acc_model.predict(images)\n",
    "    predicted_labels = np.argmax(predictions, axis=1)  # Convert softmax to class labels\n",
    "    y_true.extend(labels.numpy())  # Convert tensor to numpy array and append\n",
    "    y_pred.extend(predicted_labels)  # Append the predicted labels\n",
    "\n",
    "y_true = np.array(y_true)  # Convert list to numpy array for processing\n",
    "y_pred = np.array(y_pred)  # Convert list to numpy array for processing\n",
    "\n",
    "# Classification report\n",
    "report = classification_report(y_true, y_pred, target_names=class_names)\n",
    "print(\"Classification Report:\")\n",
    "print(report)\n",
    "\n",
    "# Confusion matrix\n",
    "conf_matrix = confusion_matrix(y_true, y_pred)\n",
    "\n",
    "# Plot confusion matrix\n",
    "plt.figure(figsize=(8, 6))\n",
    "sns.heatmap(conf_matrix, annot=True, fmt='d', cmap='Blues', xticklabels=class_names, yticklabels=class_names)\n",
    "plt.title('Confusion Matrix')\n",
    "plt.xlabel('Predicted')\n",
    "plt.ylabel('True')\n",
    "plt.show()"
   ]
  },
  {
   "cell_type": "code",
   "execution_count": 51,
   "id": "222c9ca7-3eed-4a79-904d-2f16b861df97",
   "metadata": {},
   "outputs": [
    {
     "name": "stderr",
     "output_type": "stream",
     "text": [
      "WARNING:absl:You are saving your model as an HDF5 file via `model.save()` or `keras.saving.save_model(model)`. This file format is considered legacy. We recommend using instead the native Keras format, e.g. `model.save('my_model.keras')` or `keras.saving.save_model(model, 'my_model.keras')`. \n"
     ]
    },
    {
     "name": "stdout",
     "output_type": "stream",
     "text": [
      "Model saved as HDF5 format.\n"
     ]
    }
   ],
   "source": [
    "high_acc_model.save('model.h5') # The model will be saved as 'my_model.h5'\n",
    "print(\"Model saved as HDF5 format.\")\n",
    "\n",
    "# Model saved as HDF5 format."
   ]
  },
  {
   "cell_type": "code",
   "execution_count": 52,
   "id": "7e1dd7eb-a083-41a8-b1a8-ed1c2cec5654",
   "metadata": {},
   "outputs": [
    {
     "name": "stdout",
     "output_type": "stream",
     "text": [
      "Name: pillow\n",
      "Version: 11.1.0\n",
      "Summary: Python Imaging Library (Fork)\n",
      "Home-page: https://python-pillow.github.io\n",
      "Author: \n",
      "Author-email: \"Jeffrey A. Clark\" <aclark@aclark.net>\n",
      "License: MIT-CMU\n",
      "Location: /Users/thousifahamed/Desktop/BloodGroupDetectionUsingFingerprint/venv/lib/python3.12/site-packages\n",
      "Requires: \n",
      "Required-by: matplotlib\n",
      "Note: you may need to restart the kernel to use updated packages.\n"
     ]
    }
   ],
   "source": [
    "pip show pillow"
   ]
  },
  {
   "cell_type": "code",
   "execution_count": null,
   "id": "378ed623-615f-40b7-952a-26cf2050a370",
   "metadata": {},
   "outputs": [],
   "source": []
  }
 ],
 "metadata": {
  "kernelspec": {
   "display_name": "Python 3 (ipykernel)",
   "language": "python",
   "name": "python3"
  },
  "language_info": {
   "codemirror_mode": {
    "name": "ipython",
    "version": 3
   },
   "file_extension": ".py",
   "mimetype": "text/x-python",
   "name": "python",
   "nbconvert_exporter": "python",
   "pygments_lexer": "ipython3",
   "version": "3.12.7"
  }
 },
 "nbformat": 4,
 "nbformat_minor": 5
}
